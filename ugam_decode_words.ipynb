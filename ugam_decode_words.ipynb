{
  "cells": [
    {
      "cell_type": "markdown",
      "metadata": {
        "id": "view-in-github",
        "colab_type": "text"
      },
      "source": [
        "<a href=\"https://colab.research.google.com/github/Priya1881/NLP/blob/main/ugam_decode_words.ipynb\" target=\"_parent\"><img src=\"https://colab.research.google.com/assets/colab-badge.svg\" alt=\"Open In Colab\"/></a>"
      ]
    },
    {
      "cell_type": "code",
      "execution_count": null,
      "metadata": {
        "id": "5d0depBgi-0m"
      },
      "outputs": [],
      "source": [
        "import pandas as pd\n",
        "\n"
      ]
    },
    {
      "cell_type": "code",
      "execution_count": null,
      "metadata": {
        "id": "GyHYYRo1jYQM"
      },
      "outputs": [],
      "source": [
        "df=pd.read_csv('/content/drive/MyDrive/train.csv')"
      ]
    },
    {
      "cell_type": "code",
      "execution_count": null,
      "metadata": {
        "colab": {
          "base_uri": "https://localhost:8080/"
        },
        "id": "4LjIHEpHYjbO",
        "outputId": "06810aad-d18d-4dd5-b705-8cf3ba6ff0ed"
      },
      "outputs": [
        {
          "data": {
            "text/plain": [
              "Index(['Id', 'Review', 'Components', 'Delivery and Customer Support',\n",
              "       'Design and Aesthetics', 'Dimensions', 'Features', 'Functionality',\n",
              "       'Installation', 'Material', 'Price', 'Quality', 'Usability',\n",
              "       'Polarity'],\n",
              "      dtype='object')"
            ]
          },
          "execution_count": 3,
          "metadata": {},
          "output_type": "execute_result"
        }
      ],
      "source": [
        "df.columns"
      ]
    },
    {
      "cell_type": "code",
      "execution_count": null,
      "metadata": {
        "colab": {
          "base_uri": "https://localhost:8080/"
        },
        "id": "31C936rq3kG-",
        "outputId": "a60fec05-affd-4584-8d66-54a4a2d9f0b1"
      },
      "outputs": [
        {
          "name": "stdout",
          "output_type": "stream",
          "text": [
            "<class 'pandas.core.frame.DataFrame'>\n",
            "RangeIndex: 6136 entries, 0 to 6135\n",
            "Data columns (total 14 columns):\n",
            " #   Column                         Non-Null Count  Dtype \n",
            "---  ------                         --------------  ----- \n",
            " 0   Id                             6136 non-null   int64 \n",
            " 1   Review                         6136 non-null   object\n",
            " 2   Components                     6136 non-null   int64 \n",
            " 3   Delivery and Customer Support  6136 non-null   int64 \n",
            " 4   Design and Aesthetics          6136 non-null   int64 \n",
            " 5   Dimensions                     6136 non-null   int64 \n",
            " 6   Features                       6136 non-null   int64 \n",
            " 7   Functionality                  6136 non-null   int64 \n",
            " 8   Installation                   6136 non-null   int64 \n",
            " 9   Material                       6136 non-null   int64 \n",
            " 10  Price                          6136 non-null   int64 \n",
            " 11  Quality                        6136 non-null   int64 \n",
            " 12  Usability                      6136 non-null   int64 \n",
            " 13  Polarity                       6136 non-null   int64 \n",
            "dtypes: int64(13), object(1)\n",
            "memory usage: 671.2+ KB\n"
          ]
        }
      ],
      "source": [
        "df.info()"
      ]
    },
    {
      "cell_type": "code",
      "execution_count": null,
      "metadata": {
        "id": "2HeR5WhY7dAh"
      },
      "outputs": [],
      "source": [
        "test=pd.read_csv('/content/drive/MyDrive/test.csv')"
      ]
    },
    {
      "cell_type": "code",
      "execution_count": null,
      "metadata": {
        "id": "XsVp7KIikfKK"
      },
      "outputs": [],
      "source": [
        "cols_target=['Components', 'Delivery and Customer Support',\n",
        "       'Design and Aesthetics', 'Dimensions', 'Features', 'Functionality',\n",
        "       'Installation', 'Material', 'Price', 'Quality', 'Usability',\n",
        "       'Polarity']"
      ]
    },
    {
      "cell_type": "code",
      "execution_count": null,
      "metadata": {
        "colab": {
          "base_uri": "https://localhost:8080/"
        },
        "id": "IA4Ybd8_nboY",
        "outputId": "39ad1be4-0140-4b1c-8a45-515d9293524b"
      },
      "outputs": [
        {
          "output_type": "execute_result",
          "data": {
            "text/plain": [
              "0"
            ]
          },
          "metadata": {},
          "execution_count": 5
        }
      ],
      "source": [
        "no_review=df[df['Review'].isnull()]\n",
        "len(no_review)"
      ]
    },
    {
      "cell_type": "code",
      "execution_count": null,
      "metadata": {
        "colab": {
          "base_uri": "https://localhost:8080/"
        },
        "id": "V-3NKWtxoKVS",
        "outputId": "8b1f2aa1-1593-4385-b65f-9f0659a28e0a"
      },
      "outputs": [
        {
          "output_type": "stream",
          "name": "stdout",
          "text": [
            "Total rows in test is 2631\n",
            "Total rows in train is 6136\n",
            "Components                        274\n",
            "Delivery and Customer Support     179\n",
            "Design and Aesthetics             650\n",
            "Dimensions                        695\n",
            "Features                          313\n",
            "Functionality                    2538\n",
            "Installation                      762\n",
            "Material                          155\n",
            "Price                             854\n",
            "Quality                          2177\n",
            "Usability                        1229\n",
            "Polarity                         4770\n",
            "dtype: int64\n"
          ]
        }
      ],
      "source": [
        "print('Total rows in test is {}'.format(len(test)))\n",
        "print('Total rows in train is {}'.format(len(df)))\n",
        "print(df[cols_target].sum())"
      ]
    },
    {
      "cell_type": "code",
      "execution_count": null,
      "metadata": {
        "id": "V6AOKWqMosFX"
      },
      "outputs": [],
      "source": [
        "df['char_length'] = df['Review'].apply(lambda x: len(str(x)))"
      ]
    },
    {
      "cell_type": "code",
      "execution_count": null,
      "metadata": {
        "colab": {
          "base_uri": "https://localhost:8080/",
          "height": 268
        },
        "id": "gHbP-ip8o2Tm",
        "outputId": "7fcb5683-52fc-4173-91bf-210b47f79252"
      },
      "outputs": [
        {
          "data": {
            "image/png": "[encoded data removed]",
            "text/plain": [
              "<Figure size 432x288 with 1 Axes>"
            ]
          },
          "metadata": {},
          "output_type": "display_data"
        }
      ],
      "source": [
        "import matplotlib.pyplot as plt\n",
        "import seaborn as sns\n",
        "sns.set()\n",
        "df['char_length'].hist()\n",
        "plt.show()"
      ]
    },
    {
      "cell_type": "code",
      "execution_count": null,
      "metadata": {
        "id": "MKx9ARYLpPv9"
      },
      "outputs": [],
      "source": [
        "data=df[cols_target]"
      ]
    },
    {
      "cell_type": "code",
      "execution_count": null,
      "metadata": {
        "colab": {
          "base_uri": "https://localhost:8080/",
          "height": 563
        },
        "id": "CIezxbztphG1",
        "outputId": "4215643f-6f8d-4369-e730-e0ecd299cd27"
      },
      "outputs": [
        {
          "data": {
            "text/plain": [
              "<matplotlib.axes._subplots.AxesSubplot at 0x7ff5cee81950>"
            ]
          },
          "execution_count": 13,
          "metadata": {},
          "output_type": "execute_result"
        },
        {
          "data": {
            "image/png": "[encoded data removed]",
            "text/plain": [
              "<Figure size 504x504 with 2 Axes>"
            ]
          },
          "metadata": {},
          "output_type": "display_data"
        }
      ],
      "source": [
        "import matplotlib.pyplot as plt\n",
        "import seaborn as sns\n",
        "colormap = plt.cm.plasma\n",
        "plt.figure(figsize=(7,7))\n",
        "plt.title('Correlation of features & targets',y=1.05,size=14)\n",
        "sns.heatmap(data.astype(float).corr(),linewidths=0.1,vmax=1.0,square=True,cmap=colormap,\n",
        "           linecolor='white',annot=True)"
      ]
    },
    {
      "cell_type": "code",
      "execution_count": null,
      "metadata": {
        "id": "n3f9SsDzp61m"
      },
      "outputs": [],
      "source": [
        "def clean_text(text):\n",
        "    text = text.lower()\n",
        "    text = re.sub(r\"what's\", \"what is \", text)\n",
        "    text = re.sub(r\"\\'s\", \" \", text)\n",
        "    text = re.sub(r\"\\'ve\", \" have \", text)\n",
        "    text = re.sub(r\"can't\", \"cannot \", text)\n",
        "    text = re.sub(r\"n't\", \" not \", text)\n",
        "    text = re.sub(r\"i'm\", \"i am \", text)\n",
        "    text = re.sub(r\"\\'re\", \" are \", text)\n",
        "    text = re.sub(r\"\\'d\", \" would \", text)\n",
        "    text = re.sub(r\"\\'ll\", \" will \", text)\n",
        "    text = re.sub(r\"\\'scuse\", \" excuse \", text)\n",
        "    text = re.sub('\\W', ' ', text)\n",
        "    text = re.sub('\\s+', ' ', text)\n",
        "    text = text.strip(' ')\n",
        "    return text"
      ]
    },
    {
      "cell_type": "code",
      "execution_count": null,
      "metadata": {
        "id": "SHQo-54xp9ig"
      },
      "outputs": [],
      "source": [
        "import re\n",
        "df['Review'] = df['Review'].map(lambda com : clean_text(com))\n",
        "test['Review'] = test['Review'].map(lambda com : clean_text(com))"
      ]
    },
    {
      "cell_type": "code",
      "execution_count": null,
      "metadata": {
        "colab": {
          "base_uri": "https://localhost:8080/"
        },
        "id": "ulYrflbPqriL",
        "outputId": "25ec9e1f-fbf5-4e5e-c74a-71560b49dff7"
      },
      "outputs": [
        {
          "output_type": "execute_result",
          "data": {
            "text/plain": [
              "0       for some reason everybody complains and i am c...\n",
              "1       i like everything about it great choice of spr...\n",
              "2       excellent ceiling fan brace easy to install an...\n",
              "3       work great easy to use no issues at all with h...\n",
              "4       i would recommend this product because it is p...\n",
              "                              ...                        \n",
              "6131    easy to install just be careful with the razor...\n",
              "6132    got a big pup and she had to learn about scree...\n",
              "6133    we installed our nest cam system a little over...\n",
              "6134    this is a below average camera the only thing ...\n",
              "6135                       so easy to install amd operate\n",
              "Name: Review, Length: 6136, dtype: object"
            ]
          },
          "metadata": {},
          "execution_count": 9
        }
      ],
      "source": [
        "df['Review']"
      ]
    },
    {
      "cell_type": "code",
      "execution_count": null,
      "metadata": {
        "id": "YuLgUxc6qYjq"
      },
      "outputs": [],
      "source": [
        "df = df.drop('char_length',axis=1)"
      ]
    },
    {
      "cell_type": "code",
      "execution_count": null,
      "metadata": {
        "colab": {
          "base_uri": "https://localhost:8080/"
        },
        "id": "rlE7lZ8gDI9X",
        "outputId": "e596bb95-a22e-4557-a9e0-cdf3454ad314"
      },
      "outputs": [
        {
          "name": "stdout",
          "output_type": "stream",
          "text": [
            "[nltk_data] Downloading package stopwords to /root/nltk_data...\n",
            "[nltk_data]   Unzipping corpora/stopwords.zip.\n"
          ]
        }
      ],
      "source": [
        "import nltk\n",
        "from nltk.corpus.reader.wordnet import WordNetError\n",
        "from nltk.corpus import stopwords\n",
        "nltk.download('stopwords')\n",
        "stopwords=stopwords.words('english')\n",
        "def remove_stopwords(text):\n",
        "  clean_text=[]\n",
        "  for word in text.split():\n",
        "    if word not in stopwords:\n",
        "      clean_text.append(word)\n",
        "  return \" \".join(clean_text)"
      ]
    },
    {
      "cell_type": "code",
      "execution_count": null,
      "metadata": {
        "colab": {
          "base_uri": "https://localhost:8080/"
        },
        "id": "yDcTaKc8EPRR",
        "outputId": "d29fa14e-7523-42bc-8d40-4bdd77aa72b3"
      },
      "outputs": [
        {
          "data": {
            "text/plain": [
              "0       made of very thin cheap metal broke on very fi...\n",
              "1       as good as the brand names no jams or misfires...\n",
              "2       unit was easy to use with understandable in st...\n",
              "3       i am the new family plumber works well no prob...\n",
              "4                             seems to be holding up well\n",
              "                              ...                        \n",
              "2626    very strong piece of hardware easy to adjust a...\n",
              "2627    great supot square wich is better to line up t...\n",
              "2628                no jams no problems good quality nail\n",
              "2629    chair cushion is and very firm however nice re...\n",
              "2630    easy to work with and install we use this for ...\n",
              "Name: Review, Length: 2631, dtype: object"
            ]
          },
          "execution_count": 27,
          "metadata": {},
          "output_type": "execute_result"
        }
      ],
      "source": [
        "test['Review']"
      ]
    },
    {
      "cell_type": "code",
      "execution_count": null,
      "metadata": {
        "id": "fpTPeb-bqdWG"
      },
      "outputs": [],
      "source": [
        "X = df['Review']\n",
        "test_X = test['Review']"
      ]
    },
    {
      "cell_type": "code",
      "execution_count": null,
      "metadata": {
        "colab": {
          "base_uri": "https://localhost:8080/"
        },
        "id": "qcVtsruVq1jl",
        "outputId": "2966fd2b-faf1-46a9-8036-ff982d56a6c8"
      },
      "outputs": [
        {
          "output_type": "execute_result",
          "data": {
            "text/plain": [
              "CountVectorizer(ngram_range=(1, 3), stop_words='english')"
            ]
          },
          "metadata": {},
          "execution_count": 4
        }
      ],
      "source": [
        "# import and instantiate TfidfVectorizer\n",
        "from sklearn.feature_extraction.text import CountVectorizer\n",
        "from sklearn.feature_extraction.text import TfidfVectorizer\n",
        "vect = CountVectorizer(ngram_range=(1,3),stop_words='english')\n",
        "vect"
      ]
    },
    {
      "cell_type": "code",
      "execution_count": null,
      "metadata": {
        "id": "cU2yty-MrA35"
      },
      "outputs": [],
      "source": [
        "X_dtm = vect.fit_transform(X)\n",
        "test_X_dtm = vect.transform(test_X)"
      ]
    },
    {
      "cell_type": "code",
      "execution_count": null,
      "metadata": {
        "id": "nusPSA7OrRkJ"
      },
      "outputs": [],
      "source": [
        "# import and instantiate the Logistic Regression model\n",
        "import numpy as np\n",
        "from sklearn.linear_model import LogisticRegression\n",
        "from sklearn.metrics import accuracy_score,f1_score\n",
        "logreg = LogisticRegression(C=12.0,max_iter=150)\n",
        "\n",
        "# create submission file\n",
        "submission_binary = pd.read_csv('/content/drive/MyDrive/submission.csv')\n",
        "\n",
        "for label in cols_target:\n",
        "    print('... Processing {}'.format(label))\n",
        "    y = df[label]\n",
        "    # train the model using X_dtm & y\n",
        "    logreg.fit(X_dtm, y)\n",
        "    \n",
        "    # compute the training accuracy\n",
        "    y_pred_X = logreg.predict(X_dtm)\n",
        "    print('Training accuracy is {}'.format(f1_score(y, y_pred_X)))\n",
        "    # compute the predicted probabilities for X_test_dtm\n",
        "    test_y_prob = logreg.predict_proba(test_X_dtm)[:,1]\n",
        "    \n",
        "    submission_binary[label] = test_y_prob.clip(0.025,0.975)"
      ]
    },
    {
      "cell_type": "code",
      "execution_count": null,
      "metadata": {
        "colab": {
          "base_uri": "https://localhost:8080/",
          "height": 319
        },
        "id": "vGY_x6z9t3xq",
        "outputId": "466b1992-c164-4cac-c00f-38f3e8b87bb6"
      },
      "outputs": [
        {
          "output_type": "execute_result",
          "data": {
            "text/html": [
              "\n",
              "  <div id=\"df-0d4c2357-eead-4caf-a3a2-2981599fa285\">\n",
              "    <div class=\"colab-df-container\">\n",
              "      <div>\n",
              "<style scoped>\n",
              "    .dataframe tbody tr th:only-of-type {\n",
              "        vertical-align: middle;\n",
              "    }\n",
              "\n",
              "    .dataframe tbody tr th {\n",
              "        vertical-align: top;\n",
              "    }\n",
              "\n",
              "    .dataframe thead th {\n",
              "        text-align: right;\n",
              "    }\n",
              "</style>\n",
              "<table border=\"1\" class=\"dataframe\">\n",
              "  <thead>\n",
              "    <tr style=\"text-align: right;\">\n",
              "      <th></th>\n",
              "      <th>Components</th>\n",
              "      <th>Delivery and Customer Support</th>\n",
              "      <th>Design and Aesthetics</th>\n",
              "      <th>Dimensions</th>\n",
              "      <th>Features</th>\n",
              "      <th>Functionality</th>\n",
              "      <th>Installation</th>\n",
              "      <th>Material</th>\n",
              "      <th>Price</th>\n",
              "      <th>Quality</th>\n",
              "      <th>Usability</th>\n",
              "      <th>Polarity</th>\n",
              "    </tr>\n",
              "  </thead>\n",
              "  <tbody>\n",
              "    <tr>\n",
              "      <th>0</th>\n",
              "      <td>0.975</td>\n",
              "      <td>0.025</td>\n",
              "      <td>0.025</td>\n",
              "      <td>0.025</td>\n",
              "      <td>0.025</td>\n",
              "      <td>0.035190</td>\n",
              "      <td>0.025000</td>\n",
              "      <td>0.046896</td>\n",
              "      <td>0.025</td>\n",
              "      <td>0.412539</td>\n",
              "      <td>0.025</td>\n",
              "      <td>0.025000</td>\n",
              "    </tr>\n",
              "    <tr>\n",
              "      <th>1</th>\n",
              "      <td>0.025</td>\n",
              "      <td>0.025</td>\n",
              "      <td>0.025</td>\n",
              "      <td>0.025</td>\n",
              "      <td>0.025</td>\n",
              "      <td>0.975000</td>\n",
              "      <td>0.025000</td>\n",
              "      <td>0.025000</td>\n",
              "      <td>0.025</td>\n",
              "      <td>0.070930</td>\n",
              "      <td>0.025</td>\n",
              "      <td>0.975000</td>\n",
              "    </tr>\n",
              "    <tr>\n",
              "      <th>2</th>\n",
              "      <td>0.025</td>\n",
              "      <td>0.025</td>\n",
              "      <td>0.025</td>\n",
              "      <td>0.025</td>\n",
              "      <td>0.025</td>\n",
              "      <td>0.025000</td>\n",
              "      <td>0.059056</td>\n",
              "      <td>0.025000</td>\n",
              "      <td>0.025</td>\n",
              "      <td>0.025000</td>\n",
              "      <td>0.975</td>\n",
              "      <td>0.975000</td>\n",
              "    </tr>\n",
              "    <tr>\n",
              "      <th>3</th>\n",
              "      <td>0.025</td>\n",
              "      <td>0.025</td>\n",
              "      <td>0.025</td>\n",
              "      <td>0.025</td>\n",
              "      <td>0.025</td>\n",
              "      <td>0.975000</td>\n",
              "      <td>0.032499</td>\n",
              "      <td>0.025000</td>\n",
              "      <td>0.025</td>\n",
              "      <td>0.074503</td>\n",
              "      <td>0.025</td>\n",
              "      <td>0.975000</td>\n",
              "    </tr>\n",
              "    <tr>\n",
              "      <th>4</th>\n",
              "      <td>0.025</td>\n",
              "      <td>0.025</td>\n",
              "      <td>0.025</td>\n",
              "      <td>0.025</td>\n",
              "      <td>0.025</td>\n",
              "      <td>0.354915</td>\n",
              "      <td>0.025000</td>\n",
              "      <td>0.025000</td>\n",
              "      <td>0.025</td>\n",
              "      <td>0.393741</td>\n",
              "      <td>0.025</td>\n",
              "      <td>0.870154</td>\n",
              "    </tr>\n",
              "  </tbody>\n",
              "</table>\n",
              "</div>\n",
              "      <button class=\"colab-df-convert\" onclick=\"convertToInteractive('df-0d4c2357-eead-4caf-a3a2-2981599fa285')\"\n",
              "              title=\"Convert this dataframe to an interactive table.\"\n",
              "              style=\"display:none;\">\n",
              "        \n",
              "  <svg xmlns=\"http://www.w3.org/2000/svg\" height=\"24px\"viewBox=\"0 0 24 24\"\n",
              "       width=\"24px\">\n",
              "    <path d=\"M0 0h24v24H0V0z\" fill=\"none\"/>\n",
              "    <path d=\"M18.56 5.44l.94 2.06.94-2.06 2.06-.94-2.06-.94-.94-2.06-.94 2.06-2.06.94zm-11 1L8.5 8.5l.94-2.06 2.06-.94-2.06-.94L8.5 2.5l-.94 2.06-2.06.94zm10 10l.94 2.06.94-2.06 2.06-.94-2.06-.94-.94-2.06-.94 2.06-2.06.94z\"/><path d=\"M17.41 7.96l-1.37-1.37c-.4-.4-.92-.59-1.43-.59-.52 0-1.04.2-1.43.59L10.3 9.45l-7.72 7.72c-.78.78-.78 2.05 0 2.83L4 21.41c.39.39.9.59 1.41.59.51 0 1.02-.2 1.41-.59l7.78-7.78 2.81-2.81c.8-.78.8-2.07 0-2.86zM5.41 20L4 18.59l7.72-7.72 1.47 1.35L5.41 20z\"/>\n",
              "  </svg>\n",
              "      </button>\n",
              "      \n",
              "  <style>\n",
              "    .colab-df-container {\n",
              "      display:flex;\n",
              "      flex-wrap:wrap;\n",
              "      gap: 12px;\n",
              "    }\n",
              "\n",
              "    .colab-df-convert {\n",
              "      background-color: #E8F0FE;\n",
              "      border: none;\n",
              "      border-radius: 50%;\n",
              "      cursor: pointer;\n",
              "      display: none;\n",
              "      fill: #1967D2;\n",
              "      height: 32px;\n",
              "      padding: 0 0 0 0;\n",
              "      width: 32px;\n",
              "    }\n",
              "\n",
              "    .colab-df-convert:hover {\n",
              "      background-color: #E2EBFA;\n",
              "      box-shadow: 0px 1px 2px rgba(60, 64, 67, 0.3), 0px 1px 3px 1px rgba(60, 64, 67, 0.15);\n",
              "      fill: #174EA6;\n",
              "    }\n",
              "\n",
              "    [theme=dark] .colab-df-convert {\n",
              "      background-color: #3B4455;\n",
              "      fill: #D2E3FC;\n",
              "    }\n",
              "\n",
              "    [theme=dark] .colab-df-convert:hover {\n",
              "      background-color: #434B5C;\n",
              "      box-shadow: 0px 1px 3px 1px rgba(0, 0, 0, 0.15);\n",
              "      filter: drop-shadow(0px 1px 2px rgba(0, 0, 0, 0.3));\n",
              "      fill: #FFFFFF;\n",
              "    }\n",
              "  </style>\n",
              "\n",
              "      <script>\n",
              "        const buttonEl =\n",
              "          document.querySelector('#df-0d4c2357-eead-4caf-a3a2-2981599fa285 button.colab-df-convert');\n",
              "        buttonEl.style.display =\n",
              "          google.colab.kernel.accessAllowed ? 'block' : 'none';\n",
              "\n",
              "        async function convertToInteractive(key) {\n",
              "          const element = document.querySelector('#df-0d4c2357-eead-4caf-a3a2-2981599fa285');\n",
              "          const dataTable =\n",
              "            await google.colab.kernel.invokeFunction('convertToInteractive',\n",
              "                                                     [key], {});\n",
              "          if (!dataTable) return;\n",
              "\n",
              "          const docLinkHtml = 'Like what you see? Visit the ' +\n",
              "            '<a target=\"_blank\" href=https://colab.research.google.com/notebooks/data_table.ipynb>data table notebook</a>'\n",
              "            + ' to learn more about interactive tables.';\n",
              "          element.innerHTML = '';\n",
              "          dataTable['output_type'] = 'display_data';\n",
              "          await google.colab.output.renderOutput(dataTable, element);\n",
              "          const docLink = document.createElement('div');\n",
              "          docLink.innerHTML = docLinkHtml;\n",
              "          element.appendChild(docLink);\n",
              "        }\n",
              "      </script>\n",
              "    </div>\n",
              "  </div>\n",
              "  "
            ],
            "text/plain": [
              "   Components  Delivery and Customer Support  ...  Usability  Polarity\n",
              "0       0.975                          0.025  ...      0.025  0.025000\n",
              "1       0.025                          0.025  ...      0.025  0.975000\n",
              "2       0.025                          0.025  ...      0.975  0.975000\n",
              "3       0.025                          0.025  ...      0.025  0.975000\n",
              "4       0.025                          0.025  ...      0.025  0.870154\n",
              "\n",
              "[5 rows x 12 columns]"
            ]
          },
          "metadata": {},
          "execution_count": 15
        }
      ],
      "source": [
        "submission_binary.head()"
      ]
    },
    {
      "cell_type": "code",
      "execution_count": null,
      "metadata": {
        "id": "bb_mtB-7t_0I"
      },
      "outputs": [],
      "source": [
        "submission_binary.to_csv('submission_binary.csv',index=False)"
      ]
    },
    {
      "cell_type": "code",
      "execution_count": null,
      "metadata": {
        "id": "C0JuQ32uv9dk"
      },
      "outputs": [],
      "source": [
        "# create submission file\n",
        "submission_chains = pd.read_csv('/content/drive/MyDrive/submission.csv')\n",
        "\n",
        "# create a function to add features\n",
        "def add_feature(X, feature_to_add):\n",
        "    '''\n",
        "    Returns sparse feature matrix with added feature.\n",
        "    feature_to_add can also be a list of features.\n",
        "    '''\n",
        "    from scipy.sparse import csr_matrix, hstack\n",
        "    return hstack([X, csr_matrix(feature_to_add).T], 'csr')"
      ]
    },
    {
      "cell_type": "code",
      "execution_count": null,
      "metadata": {
        "colab": {
          "base_uri": "https://localhost:8080/"
        },
        "id": "pg7UL5NDwP7F",
        "outputId": "6c90da69-c2d6-40a0-b10b-f286e2ac967b"
      },
      "outputs": [
        {
          "output_type": "stream",
          "name": "stdout",
          "text": [
            "... Processing Components\n",
            "Training Accuracy is 0.9871251629726207\n",
            "Shape of X_dtm is now (6136, 5001)\n",
            "Shape of test_X_dtm is now (2631, 5001)\n",
            "... Processing Delivery and Customer Support\n",
            "Training Accuracy is 0.9938070404172099\n",
            "Shape of X_dtm is now (6136, 5002)\n",
            "Shape of test_X_dtm is now (2631, 5002)\n",
            "... Processing Design and Aesthetics\n",
            "Training Accuracy is 0.9804432855280313\n",
            "Shape of X_dtm is now (6136, 5003)\n",
            "Shape of test_X_dtm is now (2631, 5003)\n",
            "... Processing Dimensions\n",
            "Training Accuracy is 0.9768578878748371\n",
            "Shape of X_dtm is now (6136, 5004)\n",
            "Shape of test_X_dtm is now (2631, 5004)\n",
            "... Processing Features\n",
            "Training Accuracy is 0.983702737940026\n",
            "Shape of X_dtm is now (6136, 5005)\n",
            "Shape of test_X_dtm is now (2631, 5005)\n",
            "... Processing Functionality\n",
            "Training Accuracy is 0.9563233376792699\n",
            "Shape of X_dtm is now (6136, 5006)\n",
            "Shape of test_X_dtm is now (2631, 5006)\n",
            "... Processing Installation\n",
            "Training Accuracy is 0.9895697522816167\n",
            "Shape of X_dtm is now (6136, 5007)\n",
            "Shape of test_X_dtm is now (2631, 5007)\n",
            "... Processing Material\n",
            "Training Accuracy is 0.9939700130378096\n",
            "Shape of X_dtm is now (6136, 5008)\n",
            "Shape of test_X_dtm is now (2631, 5008)\n",
            "... Processing Price\n",
            "Training Accuracy is 0.9871251629726207\n",
            "Shape of X_dtm is now (6136, 5009)\n",
            "Shape of test_X_dtm is now (2631, 5009)\n",
            "... Processing Quality\n",
            "Training Accuracy is 0.958767926988266\n",
            "Shape of X_dtm is now (6136, 5010)\n",
            "Shape of test_X_dtm is now (2631, 5010)\n",
            "... Processing Usability\n",
            "Training Accuracy is 0.9817470664928292\n",
            "Shape of X_dtm is now (6136, 5011)\n",
            "Shape of test_X_dtm is now (2631, 5011)\n",
            "... Processing Polarity\n",
            "Training Accuracy is 0.9701760104302477\n",
            "Shape of X_dtm is now (6136, 5012)\n",
            "Shape of test_X_dtm is now (2631, 5012)\n"
          ]
        }
      ],
      "source": [
        "for label in cols_target:\n",
        "    print('... Processing {}'.format(label))\n",
        "    y = df[label]\n",
        "    # train the model using X_dtm & y\n",
        "    logreg = LogisticRegression(max_iter=150)\n",
        "    logreg.fit(X_dtm,y)\n",
        "    # compute the training accuracy\n",
        "    y_pred_X = logreg.predict(X_dtm)\n",
        "    print('Training Accuracy is {}'.format(accuracy_score(y,y_pred_X)))\n",
        "    # make predictions from test_X\n",
        "    test_y = logreg.predict(test_X_dtm)\n",
        "    test_y_prob = logreg.predict_proba(test_X_dtm)[:,1]\n",
        "    submission_chains[label] = test_y_prob.clip(0.025,0.975)\n",
        "    # chain current label to X_dtm\n",
        "    X_dtm = add_feature(X_dtm, y)\n",
        "    print('Shape of X_dtm is now {}'.format(X_dtm.shape))\n",
        "    # chain current label predictions to test_X_dtm\n",
        "    test_X_dtm = add_feature(test_X_dtm, test_y)\n",
        "    print('Shape of test_X_dtm is now {}'.format(test_X_dtm.shape))"
      ]
    },
    {
      "cell_type": "code",
      "execution_count": null,
      "metadata": {
        "colab": {
          "base_uri": "https://localhost:8080/",
          "height": 319
        },
        "id": "dr7NpUgLxAwH",
        "outputId": "eff92e9f-dfb5-4bb0-9614-3f1558e61be4"
      },
      "outputs": [
        {
          "output_type": "execute_result",
          "data": {
            "text/html": [
              "\n",
              "  <div id=\"df-f8b869de-0ee1-4f99-94f4-54e890a6a4eb\">\n",
              "    <div class=\"colab-df-container\">\n",
              "      <div>\n",
              "<style scoped>\n",
              "    .dataframe tbody tr th:only-of-type {\n",
              "        vertical-align: middle;\n",
              "    }\n",
              "\n",
              "    .dataframe tbody tr th {\n",
              "        vertical-align: top;\n",
              "    }\n",
              "\n",
              "    .dataframe thead th {\n",
              "        text-align: right;\n",
              "    }\n",
              "</style>\n",
              "<table border=\"1\" class=\"dataframe\">\n",
              "  <thead>\n",
              "    <tr style=\"text-align: right;\">\n",
              "      <th></th>\n",
              "      <th>Components</th>\n",
              "      <th>Delivery and Customer Support</th>\n",
              "      <th>Design and Aesthetics</th>\n",
              "      <th>Dimensions</th>\n",
              "      <th>Features</th>\n",
              "      <th>Functionality</th>\n",
              "      <th>Installation</th>\n",
              "      <th>Material</th>\n",
              "      <th>Price</th>\n",
              "      <th>Quality</th>\n",
              "      <th>Usability</th>\n",
              "      <th>Polarity</th>\n",
              "    </tr>\n",
              "  </thead>\n",
              "  <tbody>\n",
              "    <tr>\n",
              "      <th>0</th>\n",
              "      <td>0.959027</td>\n",
              "      <td>0.025</td>\n",
              "      <td>0.025</td>\n",
              "      <td>0.025000</td>\n",
              "      <td>0.025000</td>\n",
              "      <td>0.025000</td>\n",
              "      <td>0.025000</td>\n",
              "      <td>0.025</td>\n",
              "      <td>0.025000</td>\n",
              "      <td>0.454039</td>\n",
              "      <td>0.025</td>\n",
              "      <td>0.025000</td>\n",
              "    </tr>\n",
              "    <tr>\n",
              "      <th>1</th>\n",
              "      <td>0.025000</td>\n",
              "      <td>0.025</td>\n",
              "      <td>0.025</td>\n",
              "      <td>0.025000</td>\n",
              "      <td>0.025000</td>\n",
              "      <td>0.930633</td>\n",
              "      <td>0.025000</td>\n",
              "      <td>0.025</td>\n",
              "      <td>0.025000</td>\n",
              "      <td>0.075905</td>\n",
              "      <td>0.025</td>\n",
              "      <td>0.975000</td>\n",
              "    </tr>\n",
              "    <tr>\n",
              "      <th>2</th>\n",
              "      <td>0.025000</td>\n",
              "      <td>0.025</td>\n",
              "      <td>0.025</td>\n",
              "      <td>0.026815</td>\n",
              "      <td>0.025000</td>\n",
              "      <td>0.078596</td>\n",
              "      <td>0.102729</td>\n",
              "      <td>0.025</td>\n",
              "      <td>0.034990</td>\n",
              "      <td>0.112807</td>\n",
              "      <td>0.975</td>\n",
              "      <td>0.975000</td>\n",
              "    </tr>\n",
              "    <tr>\n",
              "      <th>3</th>\n",
              "      <td>0.025000</td>\n",
              "      <td>0.025</td>\n",
              "      <td>0.025</td>\n",
              "      <td>0.025000</td>\n",
              "      <td>0.025000</td>\n",
              "      <td>0.975000</td>\n",
              "      <td>0.025000</td>\n",
              "      <td>0.025</td>\n",
              "      <td>0.032643</td>\n",
              "      <td>0.114394</td>\n",
              "      <td>0.025</td>\n",
              "      <td>0.965152</td>\n",
              "    </tr>\n",
              "    <tr>\n",
              "      <th>4</th>\n",
              "      <td>0.025000</td>\n",
              "      <td>0.025</td>\n",
              "      <td>0.025</td>\n",
              "      <td>0.037546</td>\n",
              "      <td>0.027234</td>\n",
              "      <td>0.424900</td>\n",
              "      <td>0.025000</td>\n",
              "      <td>0.025</td>\n",
              "      <td>0.033597</td>\n",
              "      <td>0.546843</td>\n",
              "      <td>0.025</td>\n",
              "      <td>0.786038</td>\n",
              "    </tr>\n",
              "  </tbody>\n",
              "</table>\n",
              "</div>\n",
              "      <button class=\"colab-df-convert\" onclick=\"convertToInteractive('df-f8b869de-0ee1-4f99-94f4-54e890a6a4eb')\"\n",
              "              title=\"Convert this dataframe to an interactive table.\"\n",
              "              style=\"display:none;\">\n",
              "        \n",
              "  <svg xmlns=\"http://www.w3.org/2000/svg\" height=\"24px\"viewBox=\"0 0 24 24\"\n",
              "       width=\"24px\">\n",
              "    <path d=\"M0 0h24v24H0V0z\" fill=\"none\"/>\n",
              "    <path d=\"M18.56 5.44l.94 2.06.94-2.06 2.06-.94-2.06-.94-.94-2.06-.94 2.06-2.06.94zm-11 1L8.5 8.5l.94-2.06 2.06-.94-2.06-.94L8.5 2.5l-.94 2.06-2.06.94zm10 10l.94 2.06.94-2.06 2.06-.94-2.06-.94-.94-2.06-.94 2.06-2.06.94z\"/><path d=\"M17.41 7.96l-1.37-1.37c-.4-.4-.92-.59-1.43-.59-.52 0-1.04.2-1.43.59L10.3 9.45l-7.72 7.72c-.78.78-.78 2.05 0 2.83L4 21.41c.39.39.9.59 1.41.59.51 0 1.02-.2 1.41-.59l7.78-7.78 2.81-2.81c.8-.78.8-2.07 0-2.86zM5.41 20L4 18.59l7.72-7.72 1.47 1.35L5.41 20z\"/>\n",
              "  </svg>\n",
              "      </button>\n",
              "      \n",
              "  <style>\n",
              "    .colab-df-container {\n",
              "      display:flex;\n",
              "      flex-wrap:wrap;\n",
              "      gap: 12px;\n",
              "    }\n",
              "\n",
              "    .colab-df-convert {\n",
              "      background-color: #E8F0FE;\n",
              "      border: none;\n",
              "      border-radius: 50%;\n",
              "      cursor: pointer;\n",
              "      display: none;\n",
              "      fill: #1967D2;\n",
              "      height: 32px;\n",
              "      padding: 0 0 0 0;\n",
              "      width: 32px;\n",
              "    }\n",
              "\n",
              "    .colab-df-convert:hover {\n",
              "      background-color: #E2EBFA;\n",
              "      box-shadow: 0px 1px 2px rgba(60, 64, 67, 0.3), 0px 1px 3px 1px rgba(60, 64, 67, 0.15);\n",
              "      fill: #174EA6;\n",
              "    }\n",
              "\n",
              "    [theme=dark] .colab-df-convert {\n",
              "      background-color: #3B4455;\n",
              "      fill: #D2E3FC;\n",
              "    }\n",
              "\n",
              "    [theme=dark] .colab-df-convert:hover {\n",
              "      background-color: #434B5C;\n",
              "      box-shadow: 0px 1px 3px 1px rgba(0, 0, 0, 0.15);\n",
              "      filter: drop-shadow(0px 1px 2px rgba(0, 0, 0, 0.3));\n",
              "      fill: #FFFFFF;\n",
              "    }\n",
              "  </style>\n",
              "\n",
              "      <script>\n",
              "        const buttonEl =\n",
              "          document.querySelector('#df-f8b869de-0ee1-4f99-94f4-54e890a6a4eb button.colab-df-convert');\n",
              "        buttonEl.style.display =\n",
              "          google.colab.kernel.accessAllowed ? 'block' : 'none';\n",
              "\n",
              "        async function convertToInteractive(key) {\n",
              "          const element = document.querySelector('#df-f8b869de-0ee1-4f99-94f4-54e890a6a4eb');\n",
              "          const dataTable =\n",
              "            await google.colab.kernel.invokeFunction('convertToInteractive',\n",
              "                                                     [key], {});\n",
              "          if (!dataTable) return;\n",
              "\n",
              "          const docLinkHtml = 'Like what you see? Visit the ' +\n",
              "            '<a target=\"_blank\" href=https://colab.research.google.com/notebooks/data_table.ipynb>data table notebook</a>'\n",
              "            + ' to learn more about interactive tables.';\n",
              "          element.innerHTML = '';\n",
              "          dataTable['output_type'] = 'display_data';\n",
              "          await google.colab.output.renderOutput(dataTable, element);\n",
              "          const docLink = document.createElement('div');\n",
              "          docLink.innerHTML = docLinkHtml;\n",
              "          element.appendChild(docLink);\n",
              "        }\n",
              "      </script>\n",
              "    </div>\n",
              "  </div>\n",
              "  "
            ],
            "text/plain": [
              "   Components  Delivery and Customer Support  ...  Usability  Polarity\n",
              "0    0.959027                          0.025  ...      0.025  0.025000\n",
              "1    0.025000                          0.025  ...      0.025  0.975000\n",
              "2    0.025000                          0.025  ...      0.975  0.975000\n",
              "3    0.025000                          0.025  ...      0.025  0.965152\n",
              "4    0.025000                          0.025  ...      0.025  0.786038\n",
              "\n",
              "[5 rows x 12 columns]"
            ]
          },
          "metadata": {},
          "execution_count": 19
        }
      ],
      "source": [
        "submission_chains.head()"
      ]
    },
    {
      "cell_type": "code",
      "execution_count": null,
      "metadata": {
        "id": "NSjLuqwOxIZR"
      },
      "outputs": [],
      "source": [
        "# generate submission file\n",
        "submission_chains.to_csv('submission_chains.csv', index=False)"
      ]
    },
    {
      "cell_type": "code",
      "execution_count": null,
      "metadata": {
        "id": "S5NJzgDYxN7-"
      },
      "outputs": [],
      "source": [
        "# create submission file\n",
        "submission_combined = pd.read_csv('/content/drive/MyDrive/submission.csv')"
      ]
    },
    {
      "cell_type": "code",
      "execution_count": null,
      "metadata": {
        "id": "_Hy3HLThxeAt"
      },
      "outputs": [],
      "source": [
        "for label in cols_target:\n",
        "    submission_combined[label] = 0.5*(submission_chains[label]+submission_binary[label])\n",
        "\n"
      ]
    },
    {
      "cell_type": "code",
      "execution_count": null,
      "metadata": {
        "colab": {
          "base_uri": "https://localhost:8080/",
          "height": 319
        },
        "id": "Xfi5tXlwxjPa",
        "outputId": "46f81e3a-c95e-4e0a-9b80-dd5462bf1e6a"
      },
      "outputs": [
        {
          "output_type": "execute_result",
          "data": {
            "text/html": [
              "\n",
              "  <div id=\"df-21d0ed94-0df8-464d-9081-124e1add20bd\">\n",
              "    <div class=\"colab-df-container\">\n",
              "      <div>\n",
              "<style scoped>\n",
              "    .dataframe tbody tr th:only-of-type {\n",
              "        vertical-align: middle;\n",
              "    }\n",
              "\n",
              "    .dataframe tbody tr th {\n",
              "        vertical-align: top;\n",
              "    }\n",
              "\n",
              "    .dataframe thead th {\n",
              "        text-align: right;\n",
              "    }\n",
              "</style>\n",
              "<table border=\"1\" class=\"dataframe\">\n",
              "  <thead>\n",
              "    <tr style=\"text-align: right;\">\n",
              "      <th></th>\n",
              "      <th>Components</th>\n",
              "      <th>Delivery and Customer Support</th>\n",
              "      <th>Design and Aesthetics</th>\n",
              "      <th>Dimensions</th>\n",
              "      <th>Features</th>\n",
              "      <th>Functionality</th>\n",
              "      <th>Installation</th>\n",
              "      <th>Material</th>\n",
              "      <th>Price</th>\n",
              "      <th>Quality</th>\n",
              "      <th>Usability</th>\n",
              "      <th>Polarity</th>\n",
              "    </tr>\n",
              "  </thead>\n",
              "  <tbody>\n",
              "    <tr>\n",
              "      <th>0</th>\n",
              "      <td>0.967014</td>\n",
              "      <td>0.025</td>\n",
              "      <td>0.025</td>\n",
              "      <td>0.025000</td>\n",
              "      <td>0.025000</td>\n",
              "      <td>0.030095</td>\n",
              "      <td>0.025000</td>\n",
              "      <td>0.035948</td>\n",
              "      <td>0.025000</td>\n",
              "      <td>0.433289</td>\n",
              "      <td>0.025</td>\n",
              "      <td>0.025000</td>\n",
              "    </tr>\n",
              "    <tr>\n",
              "      <th>1</th>\n",
              "      <td>0.025000</td>\n",
              "      <td>0.025</td>\n",
              "      <td>0.025</td>\n",
              "      <td>0.025000</td>\n",
              "      <td>0.025000</td>\n",
              "      <td>0.952816</td>\n",
              "      <td>0.025000</td>\n",
              "      <td>0.025000</td>\n",
              "      <td>0.025000</td>\n",
              "      <td>0.073417</td>\n",
              "      <td>0.025</td>\n",
              "      <td>0.975000</td>\n",
              "    </tr>\n",
              "    <tr>\n",
              "      <th>2</th>\n",
              "      <td>0.025000</td>\n",
              "      <td>0.025</td>\n",
              "      <td>0.025</td>\n",
              "      <td>0.025908</td>\n",
              "      <td>0.025000</td>\n",
              "      <td>0.051798</td>\n",
              "      <td>0.080893</td>\n",
              "      <td>0.025000</td>\n",
              "      <td>0.029995</td>\n",
              "      <td>0.068904</td>\n",
              "      <td>0.975</td>\n",
              "      <td>0.975000</td>\n",
              "    </tr>\n",
              "    <tr>\n",
              "      <th>3</th>\n",
              "      <td>0.025000</td>\n",
              "      <td>0.025</td>\n",
              "      <td>0.025</td>\n",
              "      <td>0.025000</td>\n",
              "      <td>0.025000</td>\n",
              "      <td>0.975000</td>\n",
              "      <td>0.028749</td>\n",
              "      <td>0.025000</td>\n",
              "      <td>0.028822</td>\n",
              "      <td>0.094448</td>\n",
              "      <td>0.025</td>\n",
              "      <td>0.970076</td>\n",
              "    </tr>\n",
              "    <tr>\n",
              "      <th>4</th>\n",
              "      <td>0.025000</td>\n",
              "      <td>0.025</td>\n",
              "      <td>0.025</td>\n",
              "      <td>0.031273</td>\n",
              "      <td>0.026117</td>\n",
              "      <td>0.389907</td>\n",
              "      <td>0.025000</td>\n",
              "      <td>0.025000</td>\n",
              "      <td>0.029298</td>\n",
              "      <td>0.470292</td>\n",
              "      <td>0.025</td>\n",
              "      <td>0.828096</td>\n",
              "    </tr>\n",
              "  </tbody>\n",
              "</table>\n",
              "</div>\n",
              "      <button class=\"colab-df-convert\" onclick=\"convertToInteractive('df-21d0ed94-0df8-464d-9081-124e1add20bd')\"\n",
              "              title=\"Convert this dataframe to an interactive table.\"\n",
              "              style=\"display:none;\">\n",
              "        \n",
              "  <svg xmlns=\"http://www.w3.org/2000/svg\" height=\"24px\"viewBox=\"0 0 24 24\"\n",
              "       width=\"24px\">\n",
              "    <path d=\"M0 0h24v24H0V0z\" fill=\"none\"/>\n",
              "    <path d=\"M18.56 5.44l.94 2.06.94-2.06 2.06-.94-2.06-.94-.94-2.06-.94 2.06-2.06.94zm-11 1L8.5 8.5l.94-2.06 2.06-.94-2.06-.94L8.5 2.5l-.94 2.06-2.06.94zm10 10l.94 2.06.94-2.06 2.06-.94-2.06-.94-.94-2.06-.94 2.06-2.06.94z\"/><path d=\"M17.41 7.96l-1.37-1.37c-.4-.4-.92-.59-1.43-.59-.52 0-1.04.2-1.43.59L10.3 9.45l-7.72 7.72c-.78.78-.78 2.05 0 2.83L4 21.41c.39.39.9.59 1.41.59.51 0 1.02-.2 1.41-.59l7.78-7.78 2.81-2.81c.8-.78.8-2.07 0-2.86zM5.41 20L4 18.59l7.72-7.72 1.47 1.35L5.41 20z\"/>\n",
              "  </svg>\n",
              "      </button>\n",
              "      \n",
              "  <style>\n",
              "    .colab-df-container {\n",
              "      display:flex;\n",
              "      flex-wrap:wrap;\n",
              "      gap: 12px;\n",
              "    }\n",
              "\n",
              "    .colab-df-convert {\n",
              "      background-color: #E8F0FE;\n",
              "      border: none;\n",
              "      border-radius: 50%;\n",
              "      cursor: pointer;\n",
              "      display: none;\n",
              "      fill: #1967D2;\n",
              "      height: 32px;\n",
              "      padding: 0 0 0 0;\n",
              "      width: 32px;\n",
              "    }\n",
              "\n",
              "    .colab-df-convert:hover {\n",
              "      background-color: #E2EBFA;\n",
              "      box-shadow: 0px 1px 2px rgba(60, 64, 67, 0.3), 0px 1px 3px 1px rgba(60, 64, 67, 0.15);\n",
              "      fill: #174EA6;\n",
              "    }\n",
              "\n",
              "    [theme=dark] .colab-df-convert {\n",
              "      background-color: #3B4455;\n",
              "      fill: #D2E3FC;\n",
              "    }\n",
              "\n",
              "    [theme=dark] .colab-df-convert:hover {\n",
              "      background-color: #434B5C;\n",
              "      box-shadow: 0px 1px 3px 1px rgba(0, 0, 0, 0.15);\n",
              "      filter: drop-shadow(0px 1px 2px rgba(0, 0, 0, 0.3));\n",
              "      fill: #FFFFFF;\n",
              "    }\n",
              "  </style>\n",
              "\n",
              "      <script>\n",
              "        const buttonEl =\n",
              "          document.querySelector('#df-21d0ed94-0df8-464d-9081-124e1add20bd button.colab-df-convert');\n",
              "        buttonEl.style.display =\n",
              "          google.colab.kernel.accessAllowed ? 'block' : 'none';\n",
              "\n",
              "        async function convertToInteractive(key) {\n",
              "          const element = document.querySelector('#df-21d0ed94-0df8-464d-9081-124e1add20bd');\n",
              "          const dataTable =\n",
              "            await google.colab.kernel.invokeFunction('convertToInteractive',\n",
              "                                                     [key], {});\n",
              "          if (!dataTable) return;\n",
              "\n",
              "          const docLinkHtml = 'Like what you see? Visit the ' +\n",
              "            '<a target=\"_blank\" href=https://colab.research.google.com/notebooks/data_table.ipynb>data table notebook</a>'\n",
              "            + ' to learn more about interactive tables.';\n",
              "          element.innerHTML = '';\n",
              "          dataTable['output_type'] = 'display_data';\n",
              "          await google.colab.output.renderOutput(dataTable, element);\n",
              "          const docLink = document.createElement('div');\n",
              "          docLink.innerHTML = docLinkHtml;\n",
              "          element.appendChild(docLink);\n",
              "        }\n",
              "      </script>\n",
              "    </div>\n",
              "  </div>\n",
              "  "
            ],
            "text/plain": [
              "   Components  Delivery and Customer Support  ...  Usability  Polarity\n",
              "0    0.967014                          0.025  ...      0.025  0.025000\n",
              "1    0.025000                          0.025  ...      0.025  0.975000\n",
              "2    0.025000                          0.025  ...      0.975  0.975000\n",
              "3    0.025000                          0.025  ...      0.025  0.970076\n",
              "4    0.025000                          0.025  ...      0.025  0.828096\n",
              "\n",
              "[5 rows x 12 columns]"
            ]
          },
          "metadata": {},
          "execution_count": 23
        }
      ],
      "source": [
        "submission_combined.head()"
      ]
    },
    {
      "cell_type": "code",
      "execution_count": null,
      "metadata": {
        "id": "i9ftCjMUxmNQ"
      },
      "outputs": [],
      "source": [
        "# generate submission file\n",
        "submission_combined.to_csv('submission_combined.csv', index=False)"
      ]
    },
    {
      "cell_type": "markdown",
      "source": [
        ""
      ],
      "metadata": {
        "id": "7-mb6RVwwPxa"
      }
    }
  ],
  "metadata": {
    "colab": {
      "name": "ugam decode words.ipynb",
      "provenance": [],
      "collapsed_sections": [],
      "mount_file_id": "1cB6wNPurct0gZp2F4N_SQcJ7ZowwaIeV",
      "authorship_tag": "ABX9TyOJRvKnmByLoOW6YquO8TVM",
      "include_colab_link": true
    },
    "kernelspec": {
      "display_name": "Python 3",
      "name": "python3"
    },
    "language_info": {
      "name": "python"
    }
  },
  "nbformat": 4,
  "nbformat_minor": 0
}