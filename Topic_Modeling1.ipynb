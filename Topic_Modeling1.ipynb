{
  "nbformat": 4,
  "nbformat_minor": 0,
  "metadata": {
    "colab": {
      "name": "Topic Modeling1.ipynb",
      "provenance": [],
      "mount_file_id": "1FuA3bMH3FRpyfHSCZRtsdk1JD8U9D6iN",
      "authorship_tag": "ABX9TyPORUh6jikAt37m7MAG9E6/",
      "include_colab_link": true
    },
    "kernelspec": {
      "name": "python3",
      "display_name": "Python 3"
    },
    "language_info": {
      "name": "python"
    }
  },
  "cells": [
    {
      "cell_type": "markdown",
      "metadata": {
        "id": "view-in-github",
        "colab_type": "text"
      },
      "source": [
        "<a href=\"https://colab.research.google.com/github/Priya1881/NLP/blob/main/Topic_Modeling1.ipynb\" target=\"_parent\"><img src=\"https://colab.research.google.com/assets/colab-badge.svg\" alt=\"Open In Colab\"/></a>"
      ]
    },
    {
      "cell_type": "code",
      "source": [
        "import nltk\n",
        "from nltk import FreqDist\n",
        "nltk.download('stopwords') # run this one time"
      ],
      "metadata": {
        "colab": {
          "base_uri": "https://localhost:8080/"
        },
        "id": "9n2F3npv4AQj",
        "outputId": "34178de4-088d-427a-a630-e4f90052bec2"
      },
      "execution_count": null,
      "outputs": [
        {
          "output_type": "stream",
          "name": "stderr",
          "text": [
            "[nltk_data] Downloading package stopwords to /root/nltk_data...\n",
            "[nltk_data]   Unzipping corpora/stopwords.zip.\n"
          ]
        },
        {
          "output_type": "execute_result",
          "data": {
            "text/plain": [
              "True"
            ]
          },
          "metadata": {},
          "execution_count": 1
        }
      ]
    },
    {
      "cell_type": "code",
      "source": [
        "import pandas as pd\n",
        "pd.set_option(\"display.max_colwidth\", 200)\n",
        "import numpy as np\n",
        "import re\n",
        "import spacy\n",
        "\n",
        "import gensim\n",
        "from gensim import corpora\n",
        "\n",
        "# libraries for visualization\n",
        "#import pyLDAvis\n",
        "#import pyLDAvis.gensim\n",
        "import matplotlib.pyplot as plt\n",
        "import seaborn as sns\n",
        "%matplotlib inline"
      ],
      "metadata": {
        "id": "z61Gi6cm9u9N"
      },
      "execution_count": null,
      "outputs": []
    },
    {
      "cell_type": "code",
      "source": [
        "df = pd.read_json('/content/drive/MyDrive/Musical_Instruments_5.json', lines=True)\n",
        "df.head()"
      ],
      "metadata": {
        "colab": {
          "base_uri": "https://localhost:8080/",
          "height": 979
        },
        "id": "b2g0kKmJGIeI",
        "outputId": "57e133f9-8481-4e0c-a763-eb5b179a2f7c"
      },
      "execution_count": null,
      "outputs": [
        {
          "output_type": "execute_result",
          "data": {
            "text/plain": [
              "       reviewerID        asin  \\\n",
              "0  A2IBPI20UZIR0U  1384719342   \n",
              "1  A14VAT5EAX3D9S  1384719342   \n",
              "2  A195EZSQDW3E21  1384719342   \n",
              "3  A2C00NNG1ZQQG2  1384719342   \n",
              "4   A94QU4C90B1AX  1384719342   \n",
              "\n",
              "                                       reviewerName   helpful  \\\n",
              "0  cassandra tu \"Yeah, well, that's just like, u...    [0, 0]   \n",
              "1                                              Jake  [13, 14]   \n",
              "2                     Rick Bennette \"Rick Bennette\"    [1, 1]   \n",
              "3                         RustyBill \"Sunday Rocker\"    [0, 0]   \n",
              "4                                     SEAN MASLANKA    [0, 0]   \n",
              "\n",
              "                                                                                                                                                                                                reviewText  \\\n",
              "0  Not much to write about here, but it does exactly what it's supposed to. filters out the pop sounds. now my recordings are much more crisp. it is one of the lowest prices pop filters on amazon so ...   \n",
              "1  The product does exactly as it should and is quite affordable.I did not realized it was double screened until it arrived, so it was even better than I had expected.As an added bonus, one of the sc...   \n",
              "2  The primary job of this device is to block the breath that would otherwise produce a popping sound, while allowing your voice to pass through with no noticeable reduction of volume or high frequen...   \n",
              "3  Nice windscreen protects my MXL mic and prevents pops. Only thing is that the gooseneck is only marginally able to hold the screen in position and requires careful positioning of the clamp to avoi...   \n",
              "4                                          This pop filter is great. It looks and performs like a studio filter. If you're recording vocals this will eliminate the pops that gets recorded when you sing.   \n",
              "\n",
              "   overall                                summary  unixReviewTime   reviewTime  \n",
              "0        5                                   good      1393545600  02 28, 2014  \n",
              "1        5                                   Jake      1363392000  03 16, 2013  \n",
              "2        5                   It Does The Job Well      1377648000  08 28, 2013  \n",
              "3        5          GOOD WINDSCREEN FOR THE MONEY      1392336000  02 14, 2014  \n",
              "4        5  No more pops when I record my vocals.      1392940800  02 21, 2014  "
            ],
            "text/html": [
              "\n",
              "  <div id=\"df-125bfe7b-f26d-4a0d-9b88-a005d16024e8\">\n",
              "    <div class=\"colab-df-container\">\n",
              "      <div>\n",
              "<style scoped>\n",
              "    .dataframe tbody tr th:only-of-type {\n",
              "        vertical-align: middle;\n",
              "    }\n",
              "\n",
              "    .dataframe tbody tr th {\n",
              "        vertical-align: top;\n",
              "    }\n",
              "\n",
              "    .dataframe thead th {\n",
              "        text-align: right;\n",
              "    }\n",
              "</style>\n",
              "<table border=\"1\" class=\"dataframe\">\n",
              "  <thead>\n",
              "    <tr style=\"text-align: right;\">\n",
              "      <th></th>\n",
              "      <th>reviewerID</th>\n",
              "      <th>asin</th>\n",
              "      <th>reviewerName</th>\n",
              "      <th>helpful</th>\n",
              "      <th>reviewText</th>\n",
              "      <th>overall</th>\n",
              "      <th>summary</th>\n",
              "      <th>unixReviewTime</th>\n",
              "      <th>reviewTime</th>\n",
              "    </tr>\n",
              "  </thead>\n",
              "  <tbody>\n",
              "    <tr>\n",
              "      <th>0</th>\n",
              "      <td>A2IBPI20UZIR0U</td>\n",
              "      <td>1384719342</td>\n",
              "      <td>cassandra tu \"Yeah, well, that's just like, u...</td>\n",
              "      <td>[0, 0]</td>\n",
              "      <td>Not much to write about here, but it does exactly what it's supposed to. filters out the pop sounds. now my recordings are much more crisp. it is one of the lowest prices pop filters on amazon so ...</td>\n",
              "      <td>5</td>\n",
              "      <td>good</td>\n",
              "      <td>1393545600</td>\n",
              "      <td>02 28, 2014</td>\n",
              "    </tr>\n",
              "    <tr>\n",
              "      <th>1</th>\n",
              "      <td>A14VAT5EAX3D9S</td>\n",
              "      <td>1384719342</td>\n",
              "      <td>Jake</td>\n",
              "      <td>[13, 14]</td>\n",
              "      <td>The product does exactly as it should and is quite affordable.I did not realized it was double screened until it arrived, so it was even better than I had expected.As an added bonus, one of the sc...</td>\n",
              "      <td>5</td>\n",
              "      <td>Jake</td>\n",
              "      <td>1363392000</td>\n",
              "      <td>03 16, 2013</td>\n",
              "    </tr>\n",
              "    <tr>\n",
              "      <th>2</th>\n",
              "      <td>A195EZSQDW3E21</td>\n",
              "      <td>1384719342</td>\n",
              "      <td>Rick Bennette \"Rick Bennette\"</td>\n",
              "      <td>[1, 1]</td>\n",
              "      <td>The primary job of this device is to block the breath that would otherwise produce a popping sound, while allowing your voice to pass through with no noticeable reduction of volume or high frequen...</td>\n",
              "      <td>5</td>\n",
              "      <td>It Does The Job Well</td>\n",
              "      <td>1377648000</td>\n",
              "      <td>08 28, 2013</td>\n",
              "    </tr>\n",
              "    <tr>\n",
              "      <th>3</th>\n",
              "      <td>A2C00NNG1ZQQG2</td>\n",
              "      <td>1384719342</td>\n",
              "      <td>RustyBill \"Sunday Rocker\"</td>\n",
              "      <td>[0, 0]</td>\n",
              "      <td>Nice windscreen protects my MXL mic and prevents pops. Only thing is that the gooseneck is only marginally able to hold the screen in position and requires careful positioning of the clamp to avoi...</td>\n",
              "      <td>5</td>\n",
              "      <td>GOOD WINDSCREEN FOR THE MONEY</td>\n",
              "      <td>1392336000</td>\n",
              "      <td>02 14, 2014</td>\n",
              "    </tr>\n",
              "    <tr>\n",
              "      <th>4</th>\n",
              "      <td>A94QU4C90B1AX</td>\n",
              "      <td>1384719342</td>\n",
              "      <td>SEAN MASLANKA</td>\n",
              "      <td>[0, 0]</td>\n",
              "      <td>This pop filter is great. It looks and performs like a studio filter. If you're recording vocals this will eliminate the pops that gets recorded when you sing.</td>\n",
              "      <td>5</td>\n",
              "      <td>No more pops when I record my vocals.</td>\n",
              "      <td>1392940800</td>\n",
              "      <td>02 21, 2014</td>\n",
              "    </tr>\n",
              "  </tbody>\n",
              "</table>\n",
              "</div>\n",
              "      <button class=\"colab-df-convert\" onclick=\"convertToInteractive('df-125bfe7b-f26d-4a0d-9b88-a005d16024e8')\"\n",
              "              title=\"Convert this dataframe to an interactive table.\"\n",
              "              style=\"display:none;\">\n",
              "        \n",
              "  <svg xmlns=\"http://www.w3.org/2000/svg\" height=\"24px\"viewBox=\"0 0 24 24\"\n",
              "       width=\"24px\">\n",
              "    <path d=\"M0 0h24v24H0V0z\" fill=\"none\"/>\n",
              "    <path d=\"M18.56 5.44l.94 2.06.94-2.06 2.06-.94-2.06-.94-.94-2.06-.94 2.06-2.06.94zm-11 1L8.5 8.5l.94-2.06 2.06-.94-2.06-.94L8.5 2.5l-.94 2.06-2.06.94zm10 10l.94 2.06.94-2.06 2.06-.94-2.06-.94-.94-2.06-.94 2.06-2.06.94z\"/><path d=\"M17.41 7.96l-1.37-1.37c-.4-.4-.92-.59-1.43-.59-.52 0-1.04.2-1.43.59L10.3 9.45l-7.72 7.72c-.78.78-.78 2.05 0 2.83L4 21.41c.39.39.9.59 1.41.59.51 0 1.02-.2 1.41-.59l7.78-7.78 2.81-2.81c.8-.78.8-2.07 0-2.86zM5.41 20L4 18.59l7.72-7.72 1.47 1.35L5.41 20z\"/>\n",
              "  </svg>\n",
              "      </button>\n",
              "      \n",
              "  <style>\n",
              "    .colab-df-container {\n",
              "      display:flex;\n",
              "      flex-wrap:wrap;\n",
              "      gap: 12px;\n",
              "    }\n",
              "\n",
              "    .colab-df-convert {\n",
              "      background-color: #E8F0FE;\n",
              "      border: none;\n",
              "      border-radius: 50%;\n",
              "      cursor: pointer;\n",
              "      display: none;\n",
              "      fill: #1967D2;\n",
              "      height: 32px;\n",
              "      padding: 0 0 0 0;\n",
              "      width: 32px;\n",
              "    }\n",
              "\n",
              "    .colab-df-convert:hover {\n",
              "      background-color: #E2EBFA;\n",
              "      box-shadow: 0px 1px 2px rgba(60, 64, 67, 0.3), 0px 1px 3px 1px rgba(60, 64, 67, 0.15);\n",
              "      fill: #174EA6;\n",
              "    }\n",
              "\n",
              "    [theme=dark] .colab-df-convert {\n",
              "      background-color: #3B4455;\n",
              "      fill: #D2E3FC;\n",
              "    }\n",
              "\n",
              "    [theme=dark] .colab-df-convert:hover {\n",
              "      background-color: #434B5C;\n",
              "      box-shadow: 0px 1px 3px 1px rgba(0, 0, 0, 0.15);\n",
              "      filter: drop-shadow(0px 1px 2px rgba(0, 0, 0, 0.3));\n",
              "      fill: #FFFFFF;\n",
              "    }\n",
              "  </style>\n",
              "\n",
              "      <script>\n",
              "        const buttonEl =\n",
              "          document.querySelector('#df-125bfe7b-f26d-4a0d-9b88-a005d16024e8 button.colab-df-convert');\n",
              "        buttonEl.style.display =\n",
              "          google.colab.kernel.accessAllowed ? 'block' : 'none';\n",
              "\n",
              "        async function convertToInteractive(key) {\n",
              "          const element = document.querySelector('#df-125bfe7b-f26d-4a0d-9b88-a005d16024e8');\n",
              "          const dataTable =\n",
              "            await google.colab.kernel.invokeFunction('convertToInteractive',\n",
              "                                                     [key], {});\n",
              "          if (!dataTable) return;\n",
              "\n",
              "          const docLinkHtml = 'Like what you see? Visit the ' +\n",
              "            '<a target=\"_blank\" href=https://colab.research.google.com/notebooks/data_table.ipynb>data table notebook</a>'\n",
              "            + ' to learn more about interactive tables.';\n",
              "          element.innerHTML = '';\n",
              "          dataTable['output_type'] = 'display_data';\n",
              "          await google.colab.output.renderOutput(dataTable, element);\n",
              "          const docLink = document.createElement('div');\n",
              "          docLink.innerHTML = docLinkHtml;\n",
              "          element.appendChild(docLink);\n",
              "        }\n",
              "      </script>\n",
              "    </div>\n",
              "  </div>\n",
              "  "
            ]
          },
          "metadata": {},
          "execution_count": 3
        }
      ]
    },
    {
      "cell_type": "code",
      "source": [
        "# function to plot most frequent terms\n",
        "def freq_words(x, terms = 30):\n",
        "  all_words = ' '.join([text for text in x])\n",
        "  all_words = all_words.split()\n",
        "\n",
        "  fdist = FreqDist(all_words)\n",
        "  words_df = pd.DataFrame({'word':list(fdist.keys()), 'count':list(fdist.values())})\n",
        "\n",
        "  # selecting top 20 most frequent words\n",
        "  #d = words_df.nlargest(columns=\"count\", n = terms) \n",
        "  #plt.figure(figsize=(20,5))\n",
        "  #ax = sns.barplot(data=d, x= \"word\", y = \"count\")\n",
        "  #ax.set(ylabel = 'Count')\n",
        "  #plt.show()\n",
        "\n",
        "\n",
        "freq_words(df['reviewText'])"
      ],
      "metadata": {
        "id": "QF85cUJBHBui"
      },
      "execution_count": null,
      "outputs": []
    },
    {
      "cell_type": "code",
      "source": [
        "# remove unwanted characters, numbers and symbols\n",
        "df['reviewText'] = df['reviewText'].str.replace(\"[^a-zA-Z#]\", \" \")"
      ],
      "metadata": {
        "colab": {
          "base_uri": "https://localhost:8080/"
        },
        "id": "MQg3uUQaHVgB",
        "outputId": "51466bb4-47ed-41a5-97a0-b4b72dc40a03"
      },
      "execution_count": null,
      "outputs": [
        {
          "output_type": "stream",
          "name": "stderr",
          "text": [
            "/usr/local/lib/python3.7/dist-packages/ipykernel_launcher.py:2: FutureWarning: The default value of regex will change from True to False in a future version.\n",
            "  \n"
          ]
        }
      ]
    },
    {
      "cell_type": "code",
      "source": [
        "from nltk.corpus import stopwords\n",
        "stop_words = stopwords.words('english')"
      ],
      "metadata": {
        "id": "Uwe0S4Z7HYoB"
      },
      "execution_count": null,
      "outputs": []
    },
    {
      "cell_type": "code",
      "source": [
        "# function to remove stopwords\n",
        "def remove_stopwords(rev):\n",
        "    rev_new = \" \".join([i for i in rev if i not in stop_words])\n",
        "    return rev_new\n",
        "\n",
        "# remove short words (length < 3)\n",
        "df['reviewText'] = df['reviewText'].apply(lambda x: ' '.join([w for w in x.split() if len(w)>2]))\n",
        "\n",
        "# remove stopwords from the text\n",
        "reviews = [remove_stopwords(r.split()) for r in df['reviewText']]\n",
        "\n",
        "# make entire text lowercase\n",
        "reviews = [r.lower() for r in reviews]\n",
        "freq_words(reviews, 35)"
      ],
      "metadata": {
        "id": "WhiRdAufHb0d"
      },
      "execution_count": null,
      "outputs": []
    },
    {
      "cell_type": "code",
      "source": [
        "!python -m spacy download en # one time run"
      ],
      "metadata": {
        "colab": {
          "base_uri": "https://localhost:8080/"
        },
        "id": "XKd3AC0XHxoe",
        "outputId": "122e82d1-f6f9-41ac-ac93-63ef8866fb24"
      },
      "execution_count": null,
      "outputs": [
        {
          "output_type": "stream",
          "name": "stdout",
          "text": [
            "\u001b[38;5;3m⚠ As of spaCy v3.0, shortcuts like 'en' are deprecated. Please use the\n",
            "full pipeline package name 'en_core_web_sm' instead.\u001b[0m\n",
            "Looking in indexes: https://pypi.org/simple, https://us-python.pkg.dev/colab-wheels/public/simple/\n",
            "Collecting en-core-web-sm==3.3.0\n",
            "  Downloading https://github.com/explosion/spacy-models/releases/download/en_core_web_sm-3.3.0/en_core_web_sm-3.3.0-py3-none-any.whl (12.8 MB)\n",
            "\u001b[K     |████████████████████████████████| 12.8 MB 47.9 MB/s \n",
            "\u001b[?25hRequirement already satisfied: spacy<3.4.0,>=3.3.0.dev0 in /usr/local/lib/python3.7/dist-packages (from en-core-web-sm==3.3.0) (3.3.1)\n",
            "Requirement already satisfied: langcodes<4.0.0,>=3.2.0 in /usr/local/lib/python3.7/dist-packages (from spacy<3.4.0,>=3.3.0.dev0->en-core-web-sm==3.3.0) (3.3.0)\n",
            "Requirement already satisfied: pydantic!=1.8,!=1.8.1,<1.9.0,>=1.7.4 in /usr/local/lib/python3.7/dist-packages (from spacy<3.4.0,>=3.3.0.dev0->en-core-web-sm==3.3.0) (1.8.2)\n",
            "Requirement already satisfied: cymem<2.1.0,>=2.0.2 in /usr/local/lib/python3.7/dist-packages (from spacy<3.4.0,>=3.3.0.dev0->en-core-web-sm==3.3.0) (2.0.6)\n",
            "Requirement already satisfied: spacy-loggers<2.0.0,>=1.0.0 in /usr/local/lib/python3.7/dist-packages (from spacy<3.4.0,>=3.3.0.dev0->en-core-web-sm==3.3.0) (1.0.2)\n",
            "Requirement already satisfied: preshed<3.1.0,>=3.0.2 in /usr/local/lib/python3.7/dist-packages (from spacy<3.4.0,>=3.3.0.dev0->en-core-web-sm==3.3.0) (3.0.6)\n",
            "Requirement already satisfied: blis<0.8.0,>=0.4.0 in /usr/local/lib/python3.7/dist-packages (from spacy<3.4.0,>=3.3.0.dev0->en-core-web-sm==3.3.0) (0.7.7)\n",
            "Requirement already satisfied: jinja2 in /usr/local/lib/python3.7/dist-packages (from spacy<3.4.0,>=3.3.0.dev0->en-core-web-sm==3.3.0) (2.11.3)\n",
            "Requirement already satisfied: requests<3.0.0,>=2.13.0 in /usr/local/lib/python3.7/dist-packages (from spacy<3.4.0,>=3.3.0.dev0->en-core-web-sm==3.3.0) (2.23.0)\n",
            "Requirement already satisfied: murmurhash<1.1.0,>=0.28.0 in /usr/local/lib/python3.7/dist-packages (from spacy<3.4.0,>=3.3.0.dev0->en-core-web-sm==3.3.0) (1.0.7)\n",
            "Requirement already satisfied: pathy>=0.3.5 in /usr/local/lib/python3.7/dist-packages (from spacy<3.4.0,>=3.3.0.dev0->en-core-web-sm==3.3.0) (0.6.1)\n",
            "Requirement already satisfied: catalogue<2.1.0,>=2.0.6 in /usr/local/lib/python3.7/dist-packages (from spacy<3.4.0,>=3.3.0.dev0->en-core-web-sm==3.3.0) (2.0.7)\n",
            "Requirement already satisfied: packaging>=20.0 in /usr/local/lib/python3.7/dist-packages (from spacy<3.4.0,>=3.3.0.dev0->en-core-web-sm==3.3.0) (21.3)\n",
            "Requirement already satisfied: numpy>=1.15.0 in /usr/local/lib/python3.7/dist-packages (from spacy<3.4.0,>=3.3.0.dev0->en-core-web-sm==3.3.0) (1.21.6)\n",
            "Requirement already satisfied: typer<0.5.0,>=0.3.0 in /usr/local/lib/python3.7/dist-packages (from spacy<3.4.0,>=3.3.0.dev0->en-core-web-sm==3.3.0) (0.4.1)\n",
            "Requirement already satisfied: setuptools in /usr/local/lib/python3.7/dist-packages (from spacy<3.4.0,>=3.3.0.dev0->en-core-web-sm==3.3.0) (57.4.0)\n",
            "Requirement already satisfied: tqdm<5.0.0,>=4.38.0 in /usr/local/lib/python3.7/dist-packages (from spacy<3.4.0,>=3.3.0.dev0->en-core-web-sm==3.3.0) (4.64.0)\n",
            "Requirement already satisfied: thinc<8.1.0,>=8.0.14 in /usr/local/lib/python3.7/dist-packages (from spacy<3.4.0,>=3.3.0.dev0->en-core-web-sm==3.3.0) (8.0.17)\n",
            "Requirement already satisfied: typing-extensions<4.2.0,>=3.7.4 in /usr/local/lib/python3.7/dist-packages (from spacy<3.4.0,>=3.3.0.dev0->en-core-web-sm==3.3.0) (4.1.1)\n",
            "Requirement already satisfied: spacy-legacy<3.1.0,>=3.0.9 in /usr/local/lib/python3.7/dist-packages (from spacy<3.4.0,>=3.3.0.dev0->en-core-web-sm==3.3.0) (3.0.9)\n",
            "Requirement already satisfied: srsly<3.0.0,>=2.4.3 in /usr/local/lib/python3.7/dist-packages (from spacy<3.4.0,>=3.3.0.dev0->en-core-web-sm==3.3.0) (2.4.3)\n",
            "Requirement already satisfied: wasabi<1.1.0,>=0.9.1 in /usr/local/lib/python3.7/dist-packages (from spacy<3.4.0,>=3.3.0.dev0->en-core-web-sm==3.3.0) (0.9.1)\n",
            "Requirement already satisfied: zipp>=0.5 in /usr/local/lib/python3.7/dist-packages (from catalogue<2.1.0,>=2.0.6->spacy<3.4.0,>=3.3.0.dev0->en-core-web-sm==3.3.0) (3.8.0)\n",
            "Requirement already satisfied: pyparsing!=3.0.5,>=2.0.2 in /usr/local/lib/python3.7/dist-packages (from packaging>=20.0->spacy<3.4.0,>=3.3.0.dev0->en-core-web-sm==3.3.0) (3.0.9)\n",
            "Requirement already satisfied: smart-open<6.0.0,>=5.0.0 in /usr/local/lib/python3.7/dist-packages (from pathy>=0.3.5->spacy<3.4.0,>=3.3.0.dev0->en-core-web-sm==3.3.0) (5.2.1)\n",
            "Requirement already satisfied: chardet<4,>=3.0.2 in /usr/local/lib/python3.7/dist-packages (from requests<3.0.0,>=2.13.0->spacy<3.4.0,>=3.3.0.dev0->en-core-web-sm==3.3.0) (3.0.4)\n",
            "Requirement already satisfied: idna<3,>=2.5 in /usr/local/lib/python3.7/dist-packages (from requests<3.0.0,>=2.13.0->spacy<3.4.0,>=3.3.0.dev0->en-core-web-sm==3.3.0) (2.10)\n",
            "Requirement already satisfied: urllib3!=1.25.0,!=1.25.1,<1.26,>=1.21.1 in /usr/local/lib/python3.7/dist-packages (from requests<3.0.0,>=2.13.0->spacy<3.4.0,>=3.3.0.dev0->en-core-web-sm==3.3.0) (1.24.3)\n",
            "Requirement already satisfied: certifi>=2017.4.17 in /usr/local/lib/python3.7/dist-packages (from requests<3.0.0,>=2.13.0->spacy<3.4.0,>=3.3.0.dev0->en-core-web-sm==3.3.0) (2022.6.15)\n",
            "Requirement already satisfied: click<9.0.0,>=7.1.1 in /usr/local/lib/python3.7/dist-packages (from typer<0.5.0,>=0.3.0->spacy<3.4.0,>=3.3.0.dev0->en-core-web-sm==3.3.0) (7.1.2)\n",
            "Requirement already satisfied: MarkupSafe>=0.23 in /usr/local/lib/python3.7/dist-packages (from jinja2->spacy<3.4.0,>=3.3.0.dev0->en-core-web-sm==3.3.0) (2.0.1)\n",
            "\u001b[38;5;2m✔ Download and installation successful\u001b[0m\n",
            "You can now load the package via spacy.load('en_core_web_sm')\n"
          ]
        }
      ]
    },
    {
      "cell_type": "code",
      "source": [
        "nlp = spacy.load('en_core_web_sm', disable=['parser', 'ner'])\n",
        "\n",
        "def lemmatization(texts, tags=['NOUN', 'ADJ']): # filter noun and adjective\n",
        "       output = []\n",
        "       for sent in texts:\n",
        "             doc = nlp(\" \".join(sent)) \n",
        "             output.append([token.lemma_ for token in doc if token.pos_ in tags])\n",
        "       return output"
      ],
      "metadata": {
        "id": "CP9p2Z8cH3tD"
      },
      "execution_count": null,
      "outputs": []
    },
    {
      "cell_type": "code",
      "source": [
        "tokenized_reviews = pd.Series(reviews).apply(lambda x: x.split())\n",
        "print(tokenized_reviews[1])"
      ],
      "metadata": {
        "colab": {
          "base_uri": "https://localhost:8080/"
        },
        "id": "urh8qzQwH8NW",
        "outputId": "096bec5d-25af-4b44-a603-1a717f4c8339"
      },
      "execution_count": null,
      "outputs": [
        {
          "output_type": "stream",
          "name": "stdout",
          "text": [
            "['the', 'product', 'exactly', 'quite', 'affordable', 'realized', 'double', 'screened', 'arrived', 'even', 'better', 'expected', 'added', 'bonus', 'one', 'screens', 'carries', 'small', 'hint', 'smell', 'old', 'grape', 'candy', 'used', 'buy', 'reminiscent', 'sake', 'cannot', 'stop', 'putting', 'pop', 'filter', 'next', 'nose', 'smelling', 'recording', 'dif', 'needed', 'pop', 'filter', 'work', 'well', 'expensive', 'ones', 'may', 'even', 'come', 'pleasing', 'aroma', 'like', 'mine', 'buy', 'product']\n"
          ]
        }
      ]
    },
    {
      "cell_type": "code",
      "source": [
        "reviews_2 = lemmatization(tokenized_reviews)\n",
        "print(reviews_2[1]) # print lemmatized review"
      ],
      "metadata": {
        "colab": {
          "base_uri": "https://localhost:8080/"
        },
        "id": "pdKft314IER0",
        "outputId": "ef45fc5a-6a44-4972-bfdd-6e9756e50366"
      },
      "execution_count": null,
      "outputs": [
        {
          "output_type": "stream",
          "name": "stdout",
          "text": [
            "['product', 'affordable', 'double', 'bonus', 'screen', 'small', 'hint', 'smell', 'old', 'grape', 'candy', 'reminiscent', 'sake', 'pop', 'filter', 'nose', 'recording', 'dif', 'pop', 'filter', 'work', 'expensive', 'one', 'pleasing', 'aroma', 'mine', 'product']\n"
          ]
        }
      ]
    },
    {
      "cell_type": "code",
      "source": [
        "reviews_3 = []\n",
        "for i in range(len(reviews_2)):\n",
        "    reviews_3.append(' '.join(reviews_2[i]))\n",
        "\n",
        "df['reviews'] = reviews_3\n",
        "\n",
        "freq_words(df['reviews'], 35)"
      ],
      "metadata": {
        "id": "_hzFT1FdISxw"
      },
      "execution_count": null,
      "outputs": []
    },
    {
      "cell_type": "code",
      "source": [
        "dictionary = corpora.Dictionary(reviews_2)"
      ],
      "metadata": {
        "id": "p_3epfnYIdJ2"
      },
      "execution_count": null,
      "outputs": []
    },
    {
      "cell_type": "code",
      "source": [
        "doc_term_matrix = [dictionary.doc2bow(rev) for rev in reviews_2]"
      ],
      "metadata": {
        "id": "zijyufUJI0Qs"
      },
      "execution_count": null,
      "outputs": []
    },
    {
      "cell_type": "code",
      "source": [
        "# Creating the object for LDA model using gensim library\n",
        "LDA = gensim.models.ldamodel.LdaModel\n",
        "\n",
        "# Build LDA model\n",
        "lda_model = LDA(corpus=doc_term_matrix, id2word=dictionary, num_topics=7, random_state=100,\n",
        "                chunksize=1000, passes=50)"
      ],
      "metadata": {
        "id": "tAjE0OWGIg25"
      },
      "execution_count": null,
      "outputs": []
    },
    {
      "cell_type": "code",
      "source": [
        "lda_model.show_topics()"
      ],
      "metadata": {
        "colab": {
          "base_uri": "https://localhost:8080/"
        },
        "id": "dXOdQCBJIjwF",
        "outputId": "d08a3c13-3e7b-477e-9b31-54df2c599f1c"
      },
      "execution_count": null,
      "outputs": [
        {
          "output_type": "execute_result",
          "data": {
            "text/plain": [
              "[(0,\n",
              "  '0.108*\"string\" + 0.045*\"guitar\" + 0.022*\"capo\" + 0.021*\"good\" + 0.020*\"sound\" + 0.018*\"acoustic\" + 0.018*\"great\" + 0.015*\"tone\" + 0.013*\"electric\" + 0.013*\"time\"'),\n",
              " (1,\n",
              "  '0.053*\"tuner\" + 0.033*\"pick\" + 0.021*\"tune\" + 0.016*\"easy\" + 0.015*\"great\" + 0.013*\"use\" + 0.012*\"guitar\" + 0.012*\"little\" + 0.012*\"light\" + 0.010*\"instrument\"'),\n",
              " (2,\n",
              "  '0.018*\"sound\" + 0.014*\"bass\" + 0.013*\"head\" + 0.011*\"headphone\" + 0.009*\"low\" + 0.009*\"ear\" + 0.008*\"review\" + 0.007*\"high\" + 0.007*\"little\" + 0.007*\"way\"'),\n",
              " (3,\n",
              "  '0.055*\"pedal\" + 0.034*\"amp\" + 0.021*\"sound\" + 0.019*\"tone\" + 0.015*\"effect\" + 0.014*\"great\" + 0.014*\"power\" + 0.012*\"good\" + 0.011*\"tube\" + 0.010*\"volume\"'),\n",
              " (4,\n",
              "  '0.045*\"guitar\" + 0.035*\"strap\" + 0.023*\"case\" + 0.014*\"bag\" + 0.012*\"neck\" + 0.011*\"fit\" + 0.011*\"nice\" + 0.011*\"wave\" + 0.011*\"planet\" + 0.009*\"good\"'),\n",
              " (5,\n",
              "  '0.042*\"good\" + 0.033*\"price\" + 0.030*\"cable\" + 0.029*\"great\" + 0.026*\"quality\" + 0.023*\"product\" + 0.013*\"cheap\" + 0.013*\"time\" + 0.010*\"guitar\" + 0.010*\"money\"'),\n",
              " (6,\n",
              "  '0.037*\"mic\" + 0.021*\"stand\" + 0.019*\"recording\" + 0.017*\"microphone\" + 0.015*\"use\" + 0.014*\"device\" + 0.013*\"good\" + 0.011*\"record\" + 0.011*\"snark\" + 0.011*\"unit\"')]"
            ]
          },
          "metadata": {},
          "execution_count": 108
        }
      ]
    },
    {
      "cell_type": "markdown",
      "source": [
        ""
      ],
      "metadata": {
        "id": "iRxCziWBKcoQ"
      }
    }
  ]
}