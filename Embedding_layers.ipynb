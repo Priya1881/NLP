{
  "nbformat": 4,
  "nbformat_minor": 0,
  "metadata": {
    "colab": {
      "name": "Embedding layers.ipynb",
      "private_outputs": true,
      "provenance": [],
      "authorship_tag": "ABX9TyMV4Tyfo/4k/oDdQWJZlPXf",
      "include_colab_link": true
    },
    "kernelspec": {
      "name": "python3",
      "display_name": "Python 3"
    },
    "language_info": {
      "name": "python"
    }
  },
  "cells": [
    {
      "cell_type": "markdown",
      "metadata": {
        "id": "view-in-github",
        "colab_type": "text"
      },
      "source": [
        "<a href=\"https://colab.research.google.com/github/Priya1881/NLP/blob/main/Embedding_layers.ipynb\" target=\"_parent\"><img src=\"https://colab.research.google.com/assets/colab-badge.svg\" alt=\"Open In Colab\"/></a>"
      ]
    },
    {
      "cell_type": "code",
      "metadata": {
        "id": "_f9rloBbbuQJ"
      },
      "source": [
        "## Predicting the next word in a seque\n",
        "from numpy import array\n",
        "from keras.preprocessing.text import Tokenizer\n",
        "from tensorflow.keras.utils import to_categorical\n",
        "from keras.utils.vis_utils import plot_model\n",
        "from keras.models import Sequential\n",
        "from keras.layers import Dense\n",
        "from keras.layers import LSTM\n",
        "from keras.layers import Embedding\n",
        "\n",
        "#generate a sequence from the model\n",
        "def generate_seq(model,tokenizer,seed_text,n_words):\n",
        "  in_text,result = seed_text,seed_text\n",
        "  #generate a fixed number of words\n",
        "  for _ in range(n_words):\n",
        "    #encode the text as integer\n",
        "    encoded = tokenizer.texts_to_sequences([in_text])[0]\n",
        "    encoded = array(encoded)\n",
        "    #predict a word in the vocabulary\n",
        "    yhat= model.predict_classes(encoded, verbose=0)\n",
        "    #map predicted word index to word\n",
        "    out_word =' '\n",
        "    for word, index in tokenizer.word_index.items():\n",
        "        if index == yhat :\n",
        "            out_word = word\n",
        "            break\n",
        "    #append to input\n",
        "    in_text, result = out_word,result + ' ' + out_word\n",
        "    return result\n",
        "\n",
        "#define the model\n",
        "def define_model(vocab_size):\n",
        "  model = Sequential()\n",
        "  model.add(Embedding(vocab_size,10,input_length=1))\n",
        "  model.add(LSTM(50))\n",
        "  model.add(Dense(vocab_size,activation='softmax'))\n",
        "  #compile network\n",
        "  model.compile(loss='categorical_crossentropy',optimizer='adam',metrics=['accuracy'])\n",
        "  #summarize defined model\n",
        "  model.summary()\n",
        "  plot_model(model,to_file='model.png',show_shapes=True)\n",
        "  return model\n",
        "\n",
        "# source text\n",
        "data = \"\"\" Jack and Jill went up the hill\\n\n",
        "    To fetch a pail of water\\n\n",
        "    Jack fell down and broke his crown\\n\n",
        "    And Jill came tumbling after\\n \"\"\"\n",
        "tokenizer = Tokenizer()\n",
        "tokenizer.fit_on_texts([data])\n",
        "encoded = tokenizer.texts_to_sequences([data])[0]\n",
        "vocab_size = len(tokenizer.word_index) + 1\n",
        "print('Vocabulary Size : %d'% vocab_size)\n",
        "\n",
        "sequences = []\n",
        "for i in range(1, len(encoded)):\n",
        "  sequence = encoded[i-1:i+1]\n",
        "  sequences.append(sequence)\n",
        "print('Total Sequences: %d'%len(sequences))\n",
        "#split into X and y elements\n",
        "sequences = array(sequences)\n",
        "X,y = sequences[:,0],sequences[:,1]\n",
        "y = to_categorical(y,num_classes = vocab_size)\n",
        "\n",
        "#call define model\n",
        "model = define_model(vocab_size)\n",
        "#fit network\n",
        "model.fit(X,y, epochs = 500,verbose = 0)\n",
        "#evaluate\n",
        "print(generate_seq(model, tokenizer, 'jack',6))"
      ],
      "execution_count": null,
      "outputs": []
    },
    {
      "cell_type": "markdown",
      "metadata": {
        "id": "_oyq6UiObzQh"
      },
      "source": [
        ""
      ]
    }
  ]
}